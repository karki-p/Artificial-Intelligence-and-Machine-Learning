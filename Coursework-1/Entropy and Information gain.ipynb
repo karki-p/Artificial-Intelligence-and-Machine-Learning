{
 "cells": [
  {
   "cell_type": "markdown",
   "metadata": {
    "id": "NlmRVcMhu2kE"
   },
   "source": [
    "### Name : Paras Karki\n",
    "### Group : 6\n",
    "### Student Id: 2050210"
   ]
  },
  {
   "cell_type": "markdown",
   "metadata": {},
   "source": [
    "## Entropy and Information Gain"
   ]
  },
  {
   "cell_type": "code",
   "execution_count": 13,
   "metadata": {
    "id": "rrb3kORru2kS"
   },
   "outputs": [],
   "source": [
    "# import necessary librariees.\n",
    "import pandas as pd\n",
    "import numpy as np"
   ]
  },
  {
   "cell_type": "markdown",
   "metadata": {},
   "source": [
    "<b>Read the dataset"
   ]
  },
  {
   "cell_type": "code",
   "execution_count": 14,
   "metadata": {
    "id": "QfrGT6xQu2kY"
   },
   "outputs": [],
   "source": [
    "path = ('samplecar.csv')\n",
    "df = pd.read_csv(path)"
   ]
  },
  {
   "cell_type": "code",
   "execution_count": 15,
   "metadata": {
    "id": "apgz2Hadu2ka",
    "outputId": "fd44b25f-54ad-4723-e908-c7ff668185f3"
   },
   "outputs": [
    {
     "data": {
      "text/html": [
       "<div>\n",
       "<style scoped>\n",
       "    .dataframe tbody tr th:only-of-type {\n",
       "        vertical-align: middle;\n",
       "    }\n",
       "\n",
       "    .dataframe tbody tr th {\n",
       "        vertical-align: top;\n",
       "    }\n",
       "\n",
       "    .dataframe thead th {\n",
       "        text-align: right;\n",
       "    }\n",
       "</style>\n",
       "<table border=\"1\" class=\"dataframe\">\n",
       "  <thead>\n",
       "    <tr style=\"text-align: right;\">\n",
       "      <th></th>\n",
       "      <th>Type</th>\n",
       "      <th>Price</th>\n",
       "      <th>Buy</th>\n",
       "    </tr>\n",
       "  </thead>\n",
       "  <tbody>\n",
       "    <tr>\n",
       "      <th>0</th>\n",
       "      <td>SUV</td>\n",
       "      <td>H</td>\n",
       "      <td>No</td>\n",
       "    </tr>\n",
       "    <tr>\n",
       "      <th>1</th>\n",
       "      <td>HB</td>\n",
       "      <td>H</td>\n",
       "      <td>No</td>\n",
       "    </tr>\n",
       "    <tr>\n",
       "      <th>2</th>\n",
       "      <td>HB</td>\n",
       "      <td>H</td>\n",
       "      <td>Yes</td>\n",
       "    </tr>\n",
       "    <tr>\n",
       "      <th>3</th>\n",
       "      <td>HB</td>\n",
       "      <td>L</td>\n",
       "      <td>No</td>\n",
       "    </tr>\n",
       "    <tr>\n",
       "      <th>4</th>\n",
       "      <td>SEDAN</td>\n",
       "      <td>H</td>\n",
       "      <td>Yes</td>\n",
       "    </tr>\n",
       "  </tbody>\n",
       "</table>\n",
       "</div>"
      ],
      "text/plain": [
       "    Type Price  Buy\n",
       "0    SUV     H   No\n",
       "1     HB     H   No\n",
       "2     HB     H  Yes\n",
       "3     HB     L   No\n",
       "4  SEDAN     H  Yes"
      ]
     },
     "execution_count": 15,
     "metadata": {},
     "output_type": "execute_result"
    }
   ],
   "source": [
    "# Display head of dataset\n",
    "df.head()"
   ]
  },
  {
   "cell_type": "code",
   "execution_count": 16,
   "metadata": {
    "id": "9yPZE4aqu2kc",
    "outputId": "676791c5-caf1-4573-8b2c-f587bbb43f8c"
   },
   "outputs": [
    {
     "data": {
      "text/html": [
       "<div>\n",
       "<style scoped>\n",
       "    .dataframe tbody tr th:only-of-type {\n",
       "        vertical-align: middle;\n",
       "    }\n",
       "\n",
       "    .dataframe tbody tr th {\n",
       "        vertical-align: top;\n",
       "    }\n",
       "\n",
       "    .dataframe thead th {\n",
       "        text-align: right;\n",
       "    }\n",
       "</style>\n",
       "<table border=\"1\" class=\"dataframe\">\n",
       "  <thead>\n",
       "    <tr style=\"text-align: right;\">\n",
       "      <th></th>\n",
       "      <th>Type</th>\n",
       "      <th>Price</th>\n",
       "      <th>Buy</th>\n",
       "    </tr>\n",
       "  </thead>\n",
       "  <tbody>\n",
       "    <tr>\n",
       "      <th>count</th>\n",
       "      <td>10</td>\n",
       "      <td>10</td>\n",
       "      <td>10</td>\n",
       "    </tr>\n",
       "    <tr>\n",
       "      <th>unique</th>\n",
       "      <td>3</td>\n",
       "      <td>3</td>\n",
       "      <td>2</td>\n",
       "    </tr>\n",
       "    <tr>\n",
       "      <th>top</th>\n",
       "      <td>HB</td>\n",
       "      <td>H</td>\n",
       "      <td>Yes</td>\n",
       "    </tr>\n",
       "    <tr>\n",
       "      <th>freq</th>\n",
       "      <td>4</td>\n",
       "      <td>5</td>\n",
       "      <td>6</td>\n",
       "    </tr>\n",
       "  </tbody>\n",
       "</table>\n",
       "</div>"
      ],
      "text/plain": [
       "       Type Price  Buy\n",
       "count    10    10   10\n",
       "unique    3     3    2\n",
       "top      HB     H  Yes\n",
       "freq      4     5    6"
      ]
     },
     "execution_count": 16,
     "metadata": {},
     "output_type": "execute_result"
    }
   ],
   "source": [
    "# describe() function is used for calculating some statistical data.\n",
    "df.describe()"
   ]
  },
  {
   "cell_type": "code",
   "execution_count": 17,
   "metadata": {},
   "outputs": [
    {
     "data": {
      "text/plain": [
       "array(['SUV', 'HB', 'SEDAN'], dtype=object)"
      ]
     },
     "execution_count": 17,
     "metadata": {},
     "output_type": "execute_result"
    }
   ],
   "source": [
    "# Give unique values in a column.\n",
    "df.Type.unique()"
   ]
  },
  {
   "cell_type": "code",
   "execution_count": 18,
   "metadata": {
    "scrolled": true
   },
   "outputs": [
    {
     "data": {
      "text/plain": [
       "array(['H', 'L', 'Hot'], dtype=object)"
      ]
     },
     "execution_count": 18,
     "metadata": {},
     "output_type": "execute_result"
    }
   ],
   "source": [
    "df.Price.unique()"
   ]
  },
  {
   "cell_type": "code",
   "execution_count": 19,
   "metadata": {
    "scrolled": true
   },
   "outputs": [
    {
     "data": {
      "text/plain": [
       "array(['No', 'Yes'], dtype=object)"
      ]
     },
     "execution_count": 19,
     "metadata": {},
     "output_type": "execute_result"
    }
   ],
   "source": [
    "df.Buy.unique()"
   ]
  },
  {
   "cell_type": "code",
   "execution_count": 20,
   "metadata": {},
   "outputs": [],
   "source": [
    "# Formula of entropy\n",
    "#information_content\n",
    "def calEntropy(totalLen,totalLenA,totalLenB):\n",
    "    pobA = totalLenA/totalLen\n",
    "    pobB = totalLenB/totalLen\n",
    "    ent = -pobA * np.log2(pobA) - pobB*np.log2(pobB)\n",
    "    return ent"
   ]
  },
  {
   "cell_type": "markdown",
   "metadata": {
    "id": "M6sNA9dHu2kg"
   },
   "source": [
    "### Calculate Entropy of features"
   ]
  },
  {
   "cell_type": "markdown",
   "metadata": {},
   "source": [
    "<b>Entropy of type with target buy"
   ]
  },
  {
   "cell_type": "code",
   "execution_count": 21,
   "metadata": {
    "id": "Fq1SV5KTu2kh",
    "outputId": "492385b0-d08b-457d-886e-aa321cd8c566"
   },
   "outputs": [
    {
     "name": "stdout",
     "output_type": "stream",
     "text": [
      "0.6 0.4\n",
      "0.9709505944546686\n"
     ]
    }
   ],
   "source": [
    "tot = len(df)\n",
    "tot_n = len(df[df['Buy']==\"No\"])\n",
    "tot_y = len(df[df['Buy']==\"Yes\"])\n",
    "prob_y = tot_y/tot\n",
    "prob_n = tot_n/tot\n",
    "print(prob_y, prob_n)\n",
    "H_tot = -prob_y * np.log2(prob_y) - prob_n * np.log2(prob_n)\n",
    "print(H_tot)"
   ]
  },
  {
   "cell_type": "code",
   "execution_count": null,
   "metadata": {
    "id": "4O5SvQu_u2kj"
   },
   "outputs": [],
   "source": [
    "def calEntropy(totalLen,totalLenA,totalLenB):\n",
    "    pobA = totalLenA/totalLen\n",
    "    pobB = totalLenB/totalLen\n",
    "    ent = -pobA * np.log2(pobA) - pobB*np.log2(pobB)\n",
    "    return ent"
   ]
  },
  {
   "cell_type": "markdown",
   "metadata": {
    "id": "o5CnSXO8u2kl"
   },
   "source": [
    "<b> entropy of  type = 'SUV'"
   ]
  },
  {
   "cell_type": "code",
   "execution_count": null,
   "metadata": {
    "id": "IFuAmCvzu2kn",
    "outputId": "1c9c187d-0735-40ab-84f9-b5c59233643c"
   },
   "outputs": [
    {
     "name": "stdout",
     "output_type": "stream",
     "text": [
      "total len of suv=  3\n",
      "total len of suv and yes=  1\n",
      "total len of suv and no= 2\n",
      "entropy of suv =  0.9182958340544896\n"
     ]
    }
   ],
   "source": [
    "suv = df[df['Type']=='SUV']\n",
    "suv_len = len(suv)\n",
    "print(\"total len of suv= \",suv_len)\n",
    "suv_and_yes = len(suv[suv['Buy']=='Yes'])\n",
    "print(\"total len of suv and yes= \",suv_and_yes)\n",
    "suv_and_no = len(suv[suv['Buy']=='No'])\n",
    "print(\"total len of suv and no=\",suv_and_no)\n",
    "ent_suv = calEntropy(suv_len,suv_and_yes,suv_and_no)\n",
    "print(\"entropy of suv = \",ent_suv)"
   ]
  },
  {
   "cell_type": "markdown",
   "metadata": {
    "id": "OhSIWumRu2ko"
   },
   "source": [
    "<b> entropy of type = 'HB'"
   ]
  },
  {
   "cell_type": "code",
   "execution_count": null,
   "metadata": {
    "id": "RERUKnoVu2kp",
    "outputId": "90e325a0-f587-4686-b3ad-6ef5e6b3941d"
   },
   "outputs": [
    {
     "name": "stdout",
     "output_type": "stream",
     "text": [
      "total len of hb=  4\n",
      "total len of hb and yes 2\n",
      "total len of hb and no 2\n",
      "entropy of HB =  1.0\n"
     ]
    }
   ],
   "source": [
    "hb = df[df['Type']=='HB']\n",
    "hb_len = len(hb)\n",
    "print(\"total len of hb= \",hb_len)\n",
    "hb_and_yes = len(hb[hb['Buy']=='Yes'])\n",
    "print(\"total len of hb and yes\",hb_and_yes)\n",
    "hb_and_no = len(hb[hb['Buy']=='No'])\n",
    "print(\"total len of hb and no\",hb_and_no)\n",
    "ent_hb = calEntropy(hb_len,hb_and_yes,hb_and_no)\n",
    "print(\"entropy of HB = \",ent_hb)"
   ]
  },
  {
   "cell_type": "markdown",
   "metadata": {
    "id": "tmzgD52Yu2kr"
   },
   "source": [
    "<b> entropy of type = 'SEDAN'"
   ]
  },
  {
   "cell_type": "code",
   "execution_count": null,
   "metadata": {
    "id": "QOikcsouu2kr",
    "outputId": "32eea429-6360-41b0-af16-694c7caa2b8c"
   },
   "outputs": [
    {
     "name": "stdout",
     "output_type": "stream",
     "text": [
      "total len of sedan=  3\n",
      "total len of sedan and yes=  3\n",
      "total len of sedan and no=  0\n",
      "entropy of HB =  nan\n"
     ]
    },
    {
     "name": "stderr",
     "output_type": "stream",
     "text": [
      "<ipython-input-7-b88298e3847d>:4: RuntimeWarning: divide by zero encountered in log2\n",
      "  ent = -pobA * np.log2(pobA) - pobB*np.log2(pobB)\n",
      "<ipython-input-7-b88298e3847d>:4: RuntimeWarning: invalid value encountered in double_scalars\n",
      "  ent = -pobA * np.log2(pobA) - pobB*np.log2(pobB)\n"
     ]
    }
   ],
   "source": [
    "sedan = df[df['Type']=='SEDAN']\n",
    "sedan_len = len(sedan)\n",
    "print(\"total len of sedan= \",sedan_len)\n",
    "sedan_and_yes = len(sedan[sedan['Buy']=='Yes'])\n",
    "print(\"total len of sedan and yes= \",sedan_and_yes)\n",
    "sedan_and_no = len(sedan[sedan['Buy']=='No'])\n",
    "print(\"total len of sedan and no= \",sedan_and_no)\n",
    "ent_sedan = calEntropy(sedan_len,sedan_and_yes,sedan_and_no)\n",
    "print(\"entropy of HB = \",ent_sedan)"
   ]
  },
  {
   "cell_type": "markdown",
   "metadata": {
    "id": "3VmjreyMu2ks"
   },
   "source": [
    "Since, there is only one flavor the entropy will be 0 and the information gain will be 100%\n",
    "Here, we can see that"
   ]
  },
  {
   "cell_type": "code",
   "execution_count": 24,
   "metadata": {},
   "outputs": [
    {
     "name": "stdout",
     "output_type": "stream",
     "text": [
      "0.6754887502163469\n"
     ]
    }
   ],
   "source": [
    "Overall_entropy = (3/10)*0.9182958340544896 + (4/10)*1 + (3/10)*0\n",
    "print(Overall_entropy)"
   ]
  },
  {
   "cell_type": "code",
   "execution_count": 27,
   "metadata": {},
   "outputs": [
    {
     "name": "stdout",
     "output_type": "stream",
     "text": [
      "0.29546184423832167\n"
     ]
    }
   ],
   "source": [
    "Information_gain =  0.9709505944546686-0.6754887502163469 \n",
    "print(Information_gain)"
   ]
  },
  {
   "cell_type": "markdown",
   "metadata": {},
   "source": [
    "<b>Entropy of Price with target buy"
   ]
  },
  {
   "cell_type": "markdown",
   "metadata": {
    "id": "-9BqrnlCu2kt"
   },
   "source": [
    "### entropy of price = 'H'"
   ]
  },
  {
   "cell_type": "code",
   "execution_count": null,
   "metadata": {
    "id": "-E2M42DLu2ku",
    "outputId": "5f8ca590-1df1-471a-9844-7bde064c0167"
   },
   "outputs": [
    {
     "name": "stdout",
     "output_type": "stream",
     "text": [
      "total len of h=  5\n",
      "total len of h and yes=  3\n",
      "total len of h and no=  2\n",
      "entropy of h =  0.9709505944546686\n"
     ]
    }
   ],
   "source": [
    "h = df[df['Price']=='H']\n",
    "h_len = len(h)\n",
    "print(\"total len of h= \",h_len)\n",
    "h_and_yes = len(h[h['Buy']=='Yes'])\n",
    "print(\"total len of h and yes= \",h_and_yes)\n",
    "h_and_no = len(h[h['Buy']=='No'])\n",
    "print(\"total len of h and no= \",h_and_no)\n",
    "ent_h = calEntropy(h_len,h_and_yes,h_and_no)\n",
    "print(\"entropy of h = \",ent_h)"
   ]
  },
  {
   "cell_type": "markdown",
   "metadata": {
    "id": "s_kIfgJru2kv"
   },
   "source": [
    "### entropy of price='L'"
   ]
  },
  {
   "cell_type": "code",
   "execution_count": null,
   "metadata": {
    "id": "mseCDAnYu2kv",
    "outputId": "f8db9fae-d257-4a80-ac14-e35e5f7f373c"
   },
   "outputs": [
    {
     "name": "stdout",
     "output_type": "stream",
     "text": [
      "total len of L=  4\n",
      "total len of L and Yes=  2\n",
      "total len of L and No=  2\n",
      "entropy of l =  1.0\n"
     ]
    }
   ],
   "source": [
    "l = df[df['Price']=='L']\n",
    "l_len = len(l)\n",
    "print(\"total len of L= \", l_len)\n",
    "l_and_yes = len(l[l['Buy']=='Yes'])\n",
    "print(\"total len of L and Yes= \",l_and_yes)\n",
    "l_and_no = len(l[l['Buy']=='No'])\n",
    "print(\"total len of L and No= \",l_and_no)\n",
    "ent_l = calEntropy(l_len,l_and_yes,l_and_no)\n",
    "print(\"entropy of l = \",ent_l)"
   ]
  },
  {
   "cell_type": "markdown",
   "metadata": {
    "id": "UFrM_3AHu2kx"
   },
   "source": [
    "### entropy of price='Hot'"
   ]
  },
  {
   "cell_type": "code",
   "execution_count": null,
   "metadata": {
    "id": "deta_Fcou2ky",
    "outputId": "bf81ff62-f2f1-42cc-f483-375a83341c03"
   },
   "outputs": [
    {
     "name": "stdout",
     "output_type": "stream",
     "text": [
      "total len of Hot=  1\n",
      "total len of Hot and Yes=  1\n",
      "total len of Hot and No=  0\n",
      "entropy of hot =  nan\n"
     ]
    },
    {
     "name": "stderr",
     "output_type": "stream",
     "text": [
      "<ipython-input-7-b88298e3847d>:4: RuntimeWarning: divide by zero encountered in log2\n",
      "  ent = -pobA * np.log2(pobA) - pobB*np.log2(pobB)\n",
      "<ipython-input-7-b88298e3847d>:4: RuntimeWarning: invalid value encountered in double_scalars\n",
      "  ent = -pobA * np.log2(pobA) - pobB*np.log2(pobB)\n"
     ]
    }
   ],
   "source": [
    "hot = df[df['Price']=='Hot']\n",
    "hot_len = len(hot)\n",
    "print(\"total len of Hot= \", hot_len)\n",
    "hot_and_yes = len(hot[hot['Buy']=='Yes'])\n",
    "print(\"total len of Hot and Yes= \",hot_and_yes)\n",
    "hot_and_no = len(hot[hot['Buy']=='No'])\n",
    "print(\"total len of Hot and No= \",hot_and_no)\n",
    "ent_hot = calEntropy(hot_len,hot_and_yes,hot_and_no)\n",
    "print(\"entropy of hot = \",ent_hot)"
   ]
  },
  {
   "cell_type": "markdown",
   "metadata": {
    "id": "ArTmdMaau2kz"
   },
   "source": [
    "Since, there is only one type the entropy will be 0 and the information gain will be 100%"
   ]
  },
  {
   "cell_type": "code",
   "execution_count": 29,
   "metadata": {},
   "outputs": [],
   "source": [
    "Entropy_price = (5/10)*0.9709505944546686 +(4/10)*1 + (1/10)*0"
   ]
  },
  {
   "cell_type": "code",
   "execution_count": 32,
   "metadata": {},
   "outputs": [
    {
     "name": "stdout",
     "output_type": "stream",
     "text": [
      "0.08547529722733427\n"
     ]
    }
   ],
   "source": [
    "infoGain2 = 0.9709505944546686 - Entropy_price\n",
    "print(infoGain2)"
   ]
  },
  {
   "cell_type": "markdown",
   "metadata": {
    "id": "khYVS61Fu2k0"
   },
   "source": [
    "## Conclusion"
   ]
  },
  {
   "cell_type": "markdown",
   "metadata": {
    "id": "OGPkL_VHu2k1"
   },
   "source": [
    "Therefore, the information gain of feature Type is highter than with Price."
   ]
  }
 ],
 "metadata": {
  "colab": {
   "name": "SudipTamang_2048492(Week3-task1).ipynb",
   "provenance": []
  },
  "kernelspec": {
   "display_name": "Python 3 (ipykernel)",
   "language": "python",
   "name": "python3"
  },
  "language_info": {
   "codemirror_mode": {
    "name": "ipython",
    "version": 3
   },
   "file_extension": ".py",
   "mimetype": "text/x-python",
   "name": "python",
   "nbconvert_exporter": "python",
   "pygments_lexer": "ipython3",
   "version": "3.9.7"
  }
 },
 "nbformat": 4,
 "nbformat_minor": 1
}
