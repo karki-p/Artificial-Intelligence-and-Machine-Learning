{
 "cells": [
  {
   "cell_type": "markdown",
   "id": "0d79d1dc",
   "metadata": {},
   "source": [
    "#### Name: Paras Karki<br>Student No.: 2050210<br>Group: L6CG6"
   ]
  },
  {
   "cell_type": "markdown",
   "id": "d40292cb",
   "metadata": {},
   "source": [
    "<h1><i>Classification Task</i><h1>"
   ]
  },
  {
   "cell_type": "markdown",
   "id": "2c21bb23",
   "metadata": {},
   "source": [
    "### Portfolio-I"
   ]
  },
  {
   "cell_type": "markdown",
   "id": "b4fe03e7",
   "metadata": {},
   "source": [
    "<b>Import libraries and load dataset"
   ]
  },
  {
   "cell_type": "code",
   "execution_count": 148,
   "id": "ab9c8ed7",
   "metadata": {},
   "outputs": [],
   "source": [
    "import numpy as np  # linear algebra\n",
    "import pandas as pd # csv file, data processing\n",
    "df=pd.read_csv(\"drug200.csv\")"
   ]
  },
  {
   "cell_type": "code",
   "execution_count": 69,
   "id": "98cdb425",
   "metadata": {},
   "outputs": [
    {
     "data": {
      "text/html": [
       "<div>\n",
       "<style scoped>\n",
       "    .dataframe tbody tr th:only-of-type {\n",
       "        vertical-align: middle;\n",
       "    }\n",
       "\n",
       "    .dataframe tbody tr th {\n",
       "        vertical-align: top;\n",
       "    }\n",
       "\n",
       "    .dataframe thead th {\n",
       "        text-align: right;\n",
       "    }\n",
       "</style>\n",
       "<table border=\"1\" class=\"dataframe\">\n",
       "  <thead>\n",
       "    <tr style=\"text-align: right;\">\n",
       "      <th></th>\n",
       "      <th>Age</th>\n",
       "      <th>Sex</th>\n",
       "      <th>BP</th>\n",
       "      <th>Cholesterol</th>\n",
       "      <th>Na_to_K</th>\n",
       "      <th>Drug</th>\n",
       "    </tr>\n",
       "  </thead>\n",
       "  <tbody>\n",
       "    <tr>\n",
       "      <th>0</th>\n",
       "      <td>23</td>\n",
       "      <td>F</td>\n",
       "      <td>HIGH</td>\n",
       "      <td>HIGH</td>\n",
       "      <td>25.355</td>\n",
       "      <td>DrugY</td>\n",
       "    </tr>\n",
       "    <tr>\n",
       "      <th>1</th>\n",
       "      <td>47</td>\n",
       "      <td>M</td>\n",
       "      <td>LOW</td>\n",
       "      <td>HIGH</td>\n",
       "      <td>13.093</td>\n",
       "      <td>drugC</td>\n",
       "    </tr>\n",
       "    <tr>\n",
       "      <th>2</th>\n",
       "      <td>47</td>\n",
       "      <td>M</td>\n",
       "      <td>LOW</td>\n",
       "      <td>HIGH</td>\n",
       "      <td>10.114</td>\n",
       "      <td>drugC</td>\n",
       "    </tr>\n",
       "    <tr>\n",
       "      <th>3</th>\n",
       "      <td>28</td>\n",
       "      <td>F</td>\n",
       "      <td>NORMAL</td>\n",
       "      <td>HIGH</td>\n",
       "      <td>7.798</td>\n",
       "      <td>drugX</td>\n",
       "    </tr>\n",
       "    <tr>\n",
       "      <th>4</th>\n",
       "      <td>61</td>\n",
       "      <td>F</td>\n",
       "      <td>LOW</td>\n",
       "      <td>HIGH</td>\n",
       "      <td>18.043</td>\n",
       "      <td>DrugY</td>\n",
       "    </tr>\n",
       "  </tbody>\n",
       "</table>\n",
       "</div>"
      ],
      "text/plain": [
       "   Age Sex      BP Cholesterol  Na_to_K   Drug\n",
       "0   23   F    HIGH        HIGH   25.355  DrugY\n",
       "1   47   M     LOW        HIGH   13.093  drugC\n",
       "2   47   M     LOW        HIGH   10.114  drugC\n",
       "3   28   F  NORMAL        HIGH    7.798  drugX\n",
       "4   61   F     LOW        HIGH   18.043  DrugY"
      ]
     },
     "execution_count": 69,
     "metadata": {},
     "output_type": "execute_result"
    }
   ],
   "source": [
    "df.head() #print first five columns"
   ]
  },
  {
   "cell_type": "code",
   "execution_count": 70,
   "id": "5e11f148",
   "metadata": {},
   "outputs": [
    {
     "data": {
      "text/plain": [
       "array(['DrugY', 'drugC', 'drugX', 'drugA', 'drugB'], dtype=object)"
      ]
     },
     "execution_count": 70,
     "metadata": {},
     "output_type": "execute_result"
    }
   ],
   "source": [
    "df.Drug.unique() #print unique values of a column"
   ]
  },
  {
   "cell_type": "code",
   "execution_count": 8,
   "id": "a1e278b6",
   "metadata": {},
   "outputs": [
    {
     "name": "stdout",
     "output_type": "stream",
     "text": [
      "<class 'pandas.core.frame.DataFrame'>\n",
      "RangeIndex: 200 entries, 0 to 199\n",
      "Data columns (total 6 columns):\n",
      " #   Column       Non-Null Count  Dtype  \n",
      "---  ------       --------------  -----  \n",
      " 0   Age          200 non-null    int64  \n",
      " 1   Sex          200 non-null    object \n",
      " 2   BP           200 non-null    object \n",
      " 3   Cholesterol  200 non-null    object \n",
      " 4   Na_to_K      200 non-null    float64\n",
      " 5   Drug         200 non-null    object \n",
      "dtypes: float64(1), int64(1), object(4)\n",
      "memory usage: 9.5+ KB\n"
     ]
    }
   ],
   "source": [
    "df.info()"
   ]
  },
  {
   "cell_type": "markdown",
   "id": "e3282ab2",
   "metadata": {},
   "source": [
    "The dataset is multi class classification. The dataset contains numerical and cateogorical string datas. The column 'Drug' is target variable and other column are input variable."
   ]
  },
  {
   "cell_type": "markdown",
   "id": "0bdfb312",
   "metadata": {},
   "source": [
    "<b>Data Visualization"
   ]
  },
  {
   "cell_type": "code",
   "execution_count": 11,
   "id": "5779901f",
   "metadata": {},
   "outputs": [
    {
     "data": {
      "text/html": [
       "<div>\n",
       "<style scoped>\n",
       "    .dataframe tbody tr th:only-of-type {\n",
       "        vertical-align: middle;\n",
       "    }\n",
       "\n",
       "    .dataframe tbody tr th {\n",
       "        vertical-align: top;\n",
       "    }\n",
       "\n",
       "    .dataframe thead th {\n",
       "        text-align: right;\n",
       "    }\n",
       "</style>\n",
       "<table border=\"1\" class=\"dataframe\">\n",
       "  <thead>\n",
       "    <tr style=\"text-align: right;\">\n",
       "      <th></th>\n",
       "      <th>Age</th>\n",
       "      <th>Na_to_K</th>\n",
       "    </tr>\n",
       "    <tr>\n",
       "      <th>Drug</th>\n",
       "      <th></th>\n",
       "      <th></th>\n",
       "    </tr>\n",
       "  </thead>\n",
       "  <tbody>\n",
       "    <tr>\n",
       "      <th>DrugY</th>\n",
       "      <td>43.747253</td>\n",
       "      <td>22.374780</td>\n",
       "    </tr>\n",
       "    <tr>\n",
       "      <th>drugA</th>\n",
       "      <td>35.869565</td>\n",
       "      <td>10.918783</td>\n",
       "    </tr>\n",
       "    <tr>\n",
       "      <th>drugB</th>\n",
       "      <td>62.500000</td>\n",
       "      <td>11.524375</td>\n",
       "    </tr>\n",
       "    <tr>\n",
       "      <th>drugC</th>\n",
       "      <td>42.500000</td>\n",
       "      <td>10.633750</td>\n",
       "    </tr>\n",
       "    <tr>\n",
       "      <th>drugX</th>\n",
       "      <td>44.018519</td>\n",
       "      <td>10.650556</td>\n",
       "    </tr>\n",
       "  </tbody>\n",
       "</table>\n",
       "</div>"
      ],
      "text/plain": [
       "             Age    Na_to_K\n",
       "Drug                       \n",
       "DrugY  43.747253  22.374780\n",
       "drugA  35.869565  10.918783\n",
       "drugB  62.500000  11.524375\n",
       "drugC  42.500000  10.633750\n",
       "drugX  44.018519  10.650556"
      ]
     },
     "execution_count": 11,
     "metadata": {},
     "output_type": "execute_result"
    }
   ],
   "source": [
    "df.groupby('Drug').mean()"
   ]
  },
  {
   "cell_type": "code",
   "execution_count": 26,
   "id": "c2be413a",
   "metadata": {},
   "outputs": [
    {
     "data": {
      "text/plain": [
       "Text(0.5, 1.0, 'Distribution of Age')"
      ]
     },
     "execution_count": 26,
     "metadata": {},
     "output_type": "execute_result"
    },
    {
     "data": {
      "image/png": "[encoded data removed]",
      "text/plain": [
       "<Figure size 432x288 with 1 Axes>"
      ]
     },
     "metadata": {
      "needs_background": "light"
     },
     "output_type": "display_data"
    }
   ],
   "source": [
    "import seaborn as sns\n",
    "sns.histplot(data=df,x=\"Age\",bins=10,kde=True,palette='Set10')\n",
    "plt.title(f\"Distribution of {'Age'}\")"
   ]
  },
  {
   "cell_type": "code",
   "execution_count": 28,
   "id": "ca383250",
   "metadata": {
    "scrolled": true
   },
   "outputs": [
    {
     "data": {
      "text/plain": [
       "Text(0.5, 1.0, 'Distribution of Na_to_K')"
      ]
     },
     "execution_count": 28,
     "metadata": {},
     "output_type": "execute_result"
    },
    {
     "data": {
      "image/png": "[encoded data removed]",
      "text/plain": [
       "<Figure size 432x288 with 1 Axes>"
      ]
     },
     "metadata": {
      "needs_background": "light"
     },
     "output_type": "display_data"
    }
   ],
   "source": [
    "sns.histplot(data=df,x=\"Na_to_K\",bins=10,kde=True,palette='Set10')\n",
    "plt.title(f\"Distribution of {'Na_to_K'}\")"
   ]
  },
  {
   "cell_type": "markdown",
   "id": "3ebf75c8",
   "metadata": {},
   "source": [
    "Age is distributed uniformally but Na_to_K is not. This can be fixed by using log-transform done below. "
   ]
  },
  {
   "cell_type": "code",
   "execution_count": 106,
   "id": "bb51d411",
   "metadata": {
    "scrolled": true
   },
   "outputs": [
    {
     "data": {
      "text/plain": [
       "Text(0.5, 1.0, 'Distribution of Na_to_K')"
      ]
     },
     "execution_count": 106,
     "metadata": {},
     "output_type": "execute_result"
    },
    {
     "data": {
      "image/png": "[encoded data removed]",
      "text/plain": [
       "<Figure size 432x288 with 1 Axes>"
      ]
     },
     "metadata": {
      "needs_background": "light"
     },
     "output_type": "display_data"
    }
   ],
   "source": [
    "df['Na_to_K']=np.log1p(df['Na_to_K']) #log-transform\n",
    "sns.histplot(data=df,x=\"Na_to_K\",bins=10,kde=True,palette='Set10')\n",
    "plt.title(f\"Distribution of {'Na_to_K'}\")"
   ]
  },
  {
   "cell_type": "markdown",
   "id": "ee1c5a68",
   "metadata": {},
   "source": [
    "Now, Na_to_K is also distributed quiet unformally."
   ]
  },
  {
   "cell_type": "code",
   "execution_count": 20,
   "id": "392c39f0",
   "metadata": {},
   "outputs": [
    {
     "data": {
      "image/png": "[encoded data removed]",
      "text/plain": [
       "<Figure size 432x288 with 1 Axes>"
      ]
     },
     "metadata": {
      "needs_background": "light"
     },
     "output_type": "display_data"
    },
    {
     "data": {
      "image/png": "[encoded data removed]",
      "text/plain": [
       "<Figure size 432x288 with 1 Axes>"
      ]
     },
     "metadata": {
      "needs_background": "light"
     },
     "output_type": "display_data"
    },
    {
     "data": {
      "image/png": "[encoded data removed]",
      "text/plain": [
       "<Figure size 432x288 with 1 Axes>"
      ]
     },
     "metadata": {
      "needs_background": "light"
     },
     "output_type": "display_data"
    }
   ],
   "source": [
    "crosstb = pd.crosstab(df.Drug, df.Sex)\n",
    "crosstb1 = pd.crosstab(df.Drug, df.BP)\n",
    "crosstb2 = pd.crosstab(df.Drug, df.Cholesterol)\n",
    "# Creating barplot\n",
    "barplot = crosstb.plot.bar(rot=0)\n",
    "barplot1 = crosstb1.plot.bar(rot=0)\n",
    "barplot2 = crosstb2.plot.bar(rot=0)"
   ]
  },
  {
   "cell_type": "markdown",
   "id": "bfc88092",
   "metadata": {},
   "source": [
    "<b>Convert String data to numeric"
   ]
  },
  {
   "cell_type": "code",
   "execution_count": 149,
   "id": "7abcf354",
   "metadata": {},
   "outputs": [],
   "source": [
    "from sklearn.preprocessing import LabelEncoder\n",
    "\n",
    "lbl = df[['Sex','BP','Cholesterol','Drug']].apply(LabelEncoder().fit_transform)\n",
    "df = df.drop(['Sex','BP','Cholesterol','Drug'],axis=1)\n",
    "df = pd.concat([df,lbl],axis=1)"
   ]
  },
  {
   "cell_type": "code",
   "execution_count": 150,
   "id": "e5bd5410",
   "metadata": {},
   "outputs": [],
   "source": [
    "from sklearn.preprocessing import MinMaxScaler\n",
    "ms = MinMaxScaler()\n",
    "ncols = ['Age','Na_to_K']\n",
    "df[ncols] = ms.fit_transform(df[ncols])"
   ]
  },
  {
   "cell_type": "code",
   "execution_count": 120,
   "id": "3730a2df",
   "metadata": {},
   "outputs": [
    {
     "data": {
      "text/html": [
       "<div>\n",
       "<style scoped>\n",
       "    .dataframe tbody tr th:only-of-type {\n",
       "        vertical-align: middle;\n",
       "    }\n",
       "\n",
       "    .dataframe tbody tr th {\n",
       "        vertical-align: top;\n",
       "    }\n",
       "\n",
       "    .dataframe thead th {\n",
       "        text-align: right;\n",
       "    }\n",
       "</style>\n",
       "<table border=\"1\" class=\"dataframe\">\n",
       "  <thead>\n",
       "    <tr style=\"text-align: right;\">\n",
       "      <th></th>\n",
       "      <th>Age</th>\n",
       "      <th>Na_to_K</th>\n",
       "      <th>Sex</th>\n",
       "      <th>BP</th>\n",
       "      <th>Cholesterol</th>\n",
       "      <th>Drug</th>\n",
       "    </tr>\n",
       "  </thead>\n",
       "  <tbody>\n",
       "    <tr>\n",
       "      <th>0</th>\n",
       "      <td>0.135593</td>\n",
       "      <td>0.763846</td>\n",
       "      <td>0</td>\n",
       "      <td>0</td>\n",
       "      <td>0</td>\n",
       "      <td>0</td>\n",
       "    </tr>\n",
       "    <tr>\n",
       "      <th>1</th>\n",
       "      <td>0.542373</td>\n",
       "      <td>0.392621</td>\n",
       "      <td>1</td>\n",
       "      <td>1</td>\n",
       "      <td>0</td>\n",
       "      <td>3</td>\n",
       "    </tr>\n",
       "    <tr>\n",
       "      <th>2</th>\n",
       "      <td>0.542373</td>\n",
       "      <td>0.251793</td>\n",
       "      <td>1</td>\n",
       "      <td>1</td>\n",
       "      <td>0</td>\n",
       "      <td>3</td>\n",
       "    </tr>\n",
       "    <tr>\n",
       "      <th>3</th>\n",
       "      <td>0.220339</td>\n",
       "      <td>0.113213</td>\n",
       "      <td>0</td>\n",
       "      <td>2</td>\n",
       "      <td>0</td>\n",
       "      <td>4</td>\n",
       "    </tr>\n",
       "    <tr>\n",
       "      <th>4</th>\n",
       "      <td>0.779661</td>\n",
       "      <td>0.571136</td>\n",
       "      <td>0</td>\n",
       "      <td>1</td>\n",
       "      <td>0</td>\n",
       "      <td>0</td>\n",
       "    </tr>\n",
       "  </tbody>\n",
       "</table>\n",
       "</div>"
      ],
      "text/plain": [
       "        Age   Na_to_K  Sex  BP  Cholesterol  Drug\n",
       "0  0.135593  0.763846    0   0            0     0\n",
       "1  0.542373  0.392621    1   1            0     3\n",
       "2  0.542373  0.251793    1   1            0     3\n",
       "3  0.220339  0.113213    0   2            0     4\n",
       "4  0.779661  0.571136    0   1            0     0"
      ]
     },
     "execution_count": 120,
     "metadata": {},
     "output_type": "execute_result"
    }
   ],
   "source": [
    "df.head()"
   ]
  },
  {
   "cell_type": "markdown",
   "id": "39dc0c2c",
   "metadata": {},
   "source": [
    "<b>Separate input and target"
   ]
  },
  {
   "cell_type": "code",
   "execution_count": 151,
   "id": "869c50a9",
   "metadata": {},
   "outputs": [],
   "source": [
    "x = df.iloc[:,:-1]\n",
    "y = df[['Drug']]\n",
    "y = y.values[:,0] #make 1D array"
   ]
  },
  {
   "cell_type": "code",
   "execution_count": 152,
   "id": "b9650dde",
   "metadata": {},
   "outputs": [
    {
     "name": "stdout",
     "output_type": "stream",
     "text": [
      " Proceed Further\n"
     ]
    }
   ],
   "source": [
    "if x.shape[0] == y.shape[0]:\n",
    "    print(\" Proceed Further\")\n",
    "else:\n",
    "    print(\" Shape doesnot match\")"
   ]
  },
  {
   "cell_type": "markdown",
   "id": "7258e094",
   "metadata": {},
   "source": [
    "<b>Split train and test. The data for test is given 20%."
   ]
  },
  {
   "cell_type": "code",
   "execution_count": 153,
   "id": "abf28481",
   "metadata": {},
   "outputs": [],
   "source": [
    "from sklearn.model_selection import train_test_split\n",
    "x_train, x_test, y_train, y_test = train_test_split(x,y,test_size=0.3,random_state=42)"
   ]
  },
  {
   "cell_type": "code",
   "execution_count": 154,
   "id": "983d5267",
   "metadata": {},
   "outputs": [
    {
     "data": {
      "text/plain": [
       "((140, 5), (140,), (60, 5), (60,))"
      ]
     },
     "execution_count": 154,
     "metadata": {},
     "output_type": "execute_result"
    }
   ],
   "source": [
    "x_train.shape,y_train.shape,x_test.shape,y_test.shape"
   ]
  },
  {
   "cell_type": "markdown",
   "id": "5856513c",
   "metadata": {},
   "source": [
    "<H1>Implement Random Forest Classifier"
   ]
  },
  {
   "cell_type": "code",
   "execution_count": 155,
   "id": "1c43a86b",
   "metadata": {},
   "outputs": [
    {
     "data": {
      "text/plain": [
       "RandomForestClassifier()"
      ]
     },
     "execution_count": 155,
     "metadata": {},
     "output_type": "execute_result"
    }
   ],
   "source": [
    "from sklearn.ensemble import RandomForestClassifier\n",
    "rfc = RandomForestClassifier()\n",
    "rfc.fit(x_train, y_train)"
   ]
  },
  {
   "cell_type": "markdown",
   "id": "79fb636b",
   "metadata": {},
   "source": [
    "<b>Confusion matrix"
   ]
  },
  {
   "cell_type": "code",
   "execution_count": 156,
   "id": "cd472d00",
   "metadata": {},
   "outputs": [
    {
     "data": {
      "text/plain": [
       "array([[26,  0,  0,  0,  0],\n",
       "       [ 0,  7,  0,  0,  0],\n",
       "       [ 0,  0,  3,  0,  0],\n",
       "       [ 0,  0,  0,  6,  0],\n",
       "       [ 0,  0,  0,  0, 18]], dtype=int64)"
      ]
     },
     "execution_count": 156,
     "metadata": {},
     "output_type": "execute_result"
    }
   ],
   "source": [
    "from sklearn.metrics import confusion_matrix\n",
    "y_pred = rfc.predict(x_test)\n",
    "confusion_matrix(y_test, y_pred)"
   ]
  },
  {
   "cell_type": "markdown",
   "id": "a8b9956d",
   "metadata": {},
   "source": [
    "<b>Classification Report"
   ]
  },
  {
   "cell_type": "code",
   "execution_count": 157,
   "id": "5c45d4c7",
   "metadata": {},
   "outputs": [
    {
     "name": "stdout",
     "output_type": "stream",
     "text": [
      "              precision    recall  f1-score   support\n",
      "\n",
      "           0       1.00      1.00      1.00        26\n",
      "           1       1.00      1.00      1.00         7\n",
      "           2       1.00      1.00      1.00         3\n",
      "           3       1.00      1.00      1.00         6\n",
      "           4       1.00      1.00      1.00        18\n",
      "\n",
      "    accuracy                           1.00        60\n",
      "   macro avg       1.00      1.00      1.00        60\n",
      "weighted avg       1.00      1.00      1.00        60\n",
      "\n"
     ]
    }
   ],
   "source": [
    "from sklearn.metrics import accuracy_score, classification_report, confusion_matrix\n",
    "\n",
    "print(classification_report(y_pred, y_test))"
   ]
  },
  {
   "cell_type": "markdown",
   "id": "02a1ca0d",
   "metadata": {},
   "source": [
    "The accuracy score of the model using Random Forest Classifier is 100%."
   ]
  },
  {
   "cell_type": "code",
   "execution_count": 177,
   "id": "729afc31",
   "metadata": {},
   "outputs": [
    {
     "data": {
      "text/html": [
       "<div>\n",
       "<style scoped>\n",
       "    .dataframe tbody tr th:only-of-type {\n",
       "        vertical-align: middle;\n",
       "    }\n",
       "\n",
       "    .dataframe tbody tr th {\n",
       "        vertical-align: top;\n",
       "    }\n",
       "\n",
       "    .dataframe thead th {\n",
       "        text-align: right;\n",
       "    }\n",
       "</style>\n",
       "<table border=\"1\" class=\"dataframe\">\n",
       "  <thead>\n",
       "    <tr style=\"text-align: right;\">\n",
       "      <th></th>\n",
       "      <th>Importance</th>\n",
       "    </tr>\n",
       "  </thead>\n",
       "  <tbody>\n",
       "    <tr>\n",
       "      <th>Sex</th>\n",
       "      <td>0.017698</td>\n",
       "    </tr>\n",
       "    <tr>\n",
       "      <th>Cholesterol</th>\n",
       "      <td>0.050058</td>\n",
       "    </tr>\n",
       "    <tr>\n",
       "      <th>Age</th>\n",
       "      <td>0.151717</td>\n",
       "    </tr>\n",
       "    <tr>\n",
       "      <th>BP</th>\n",
       "      <td>0.229204</td>\n",
       "    </tr>\n",
       "    <tr>\n",
       "      <th>Na_to_K</th>\n",
       "      <td>0.551323</td>\n",
       "    </tr>\n",
       "  </tbody>\n",
       "</table>\n",
       "</div>"
      ],
      "text/plain": [
       "             Importance\n",
       "Sex            0.017698\n",
       "Cholesterol    0.050058\n",
       "Age            0.151717\n",
       "BP             0.229204\n",
       "Na_to_K        0.551323"
      ]
     },
     "execution_count": 177,
     "metadata": {},
     "output_type": "execute_result"
    }
   ],
   "source": [
    "importance_feature=pd.DataFrame(rfc.feature_importances_,index=x.columns.to_list(),columns=['Importance']).sort_values(by='Importance',ascending=True)\n",
    "importance_feature"
   ]
  },
  {
   "cell_type": "markdown",
   "id": "005abd77",
   "metadata": {},
   "source": [
    "<h1>Logistic Regression Model"
   ]
  },
  {
   "cell_type": "code",
   "execution_count": 166,
   "id": "b1524a63",
   "metadata": {},
   "outputs": [],
   "source": [
    "from sklearn.linear_model import LogisticRegression\n",
    "model = LogisticRegression(solver='lbfgs', max_iter = 9999, multi_class='multinomial')"
   ]
  },
  {
   "cell_type": "code",
   "execution_count": 167,
   "id": "fc504288",
   "metadata": {},
   "outputs": [
    {
     "data": {
      "text/plain": [
       "array([[23,  0,  2,  0,  1],\n",
       "       [ 0,  7,  0,  0,  0],\n",
       "       [ 1,  0,  2,  0,  0],\n",
       "       [ 5,  0,  0,  1,  0],\n",
       "       [ 1,  0,  0,  0, 17]], dtype=int64)"
      ]
     },
     "execution_count": 167,
     "metadata": {},
     "output_type": "execute_result"
    }
   ],
   "source": [
    "confusion_matrix(y_test, y_pred1)"
   ]
  },
  {
   "cell_type": "code",
   "execution_count": 168,
   "id": "5b122d72",
   "metadata": {},
   "outputs": [
    {
     "name": "stdout",
     "output_type": "stream",
     "text": [
      "              precision    recall  f1-score   support\n",
      "\n",
      "           0       0.77      0.88      0.82        26\n",
      "           1       1.00      1.00      1.00         7\n",
      "           2       0.50      0.67      0.57         3\n",
      "           3       1.00      0.17      0.29         6\n",
      "           4       0.94      0.94      0.94        18\n",
      "\n",
      "    accuracy                           0.83        60\n",
      "   macro avg       0.84      0.73      0.72        60\n",
      "weighted avg       0.86      0.83      0.81        60\n",
      "\n"
     ]
    }
   ],
   "source": [
    "model.fit(x_train, y_train)\n",
    "y_pred1 = model.predict(x_test)\n",
    "print(classification_report(y_test, y_pred1))"
   ]
  },
  {
   "cell_type": "markdown",
   "id": "741fc3bd",
   "metadata": {},
   "source": [
    "Using Logistic Regression model, the accuracy is 83 percent."
   ]
  },
  {
   "cell_type": "markdown",
   "id": "0aba00c2",
   "metadata": {},
   "source": [
    "<h1>KNN model"
   ]
  },
  {
   "cell_type": "code",
   "execution_count": 210,
   "id": "f36f7842",
   "metadata": {},
   "outputs": [],
   "source": [
    "from sklearn.neighbors import KNeighborsClassifier\n",
    "knn = KNeighborsClassifier(n_neighbors=5)"
   ]
  },
  {
   "cell_type": "code",
   "execution_count": 211,
   "id": "f9d8f93a",
   "metadata": {},
   "outputs": [],
   "source": [
    "knn.fit(x_train,y_train)\n",
    "y_pred2 = knn.predict(x_test)"
   ]
  },
  {
   "cell_type": "code",
   "execution_count": 212,
   "id": "8be33f9d",
   "metadata": {},
   "outputs": [
    {
     "data": {
      "text/plain": [
       "array([[16,  2,  2,  0,  6],\n",
       "       [ 0,  7,  0,  0,  0],\n",
       "       [ 0,  0,  3,  0,  0],\n",
       "       [ 5,  0,  0,  1,  0],\n",
       "       [ 0,  0,  0,  0, 18]], dtype=int64)"
      ]
     },
     "execution_count": 212,
     "metadata": {},
     "output_type": "execute_result"
    }
   ],
   "source": [
    "confusion_matrix(y_test, y_pred2)"
   ]
  },
  {
   "cell_type": "code",
   "execution_count": 213,
   "id": "8b7121d9",
   "metadata": {},
   "outputs": [
    {
     "name": "stdout",
     "output_type": "stream",
     "text": [
      "              precision    recall  f1-score   support\n",
      "\n",
      "           0       0.76      0.62      0.68        26\n",
      "           1       0.78      1.00      0.88         7\n",
      "           2       0.60      1.00      0.75         3\n",
      "           3       1.00      0.17      0.29         6\n",
      "           4       0.75      1.00      0.86        18\n",
      "\n",
      "    accuracy                           0.75        60\n",
      "   macro avg       0.78      0.76      0.69        60\n",
      "weighted avg       0.78      0.75      0.72        60\n",
      "\n"
     ]
    }
   ],
   "source": [
    "print(classification_report(y_test, y_pred2))"
   ]
  },
  {
   "cell_type": "markdown",
   "id": "2deda009",
   "metadata": {},
   "source": [
    "The accuracy using KNN model is 75 percent."
   ]
  },
  {
   "cell_type": "markdown",
   "id": "6ff646fc",
   "metadata": {},
   "source": [
    "<h1>Cross-validation and Hyper-parameters Tuning"
   ]
  },
  {
   "cell_type": "markdown",
   "id": "c6e83caa",
   "metadata": {},
   "source": [
    "<b>K-Fold Cross-Validation"
   ]
  },
  {
   "cell_type": "code",
   "execution_count": 214,
   "id": "3479e8e9",
   "metadata": {},
   "outputs": [
    {
     "name": "stdout",
     "output_type": "stream",
     "text": [
      "[0.725 0.7   0.85  0.725 0.825]\n",
      "Average score:0.765\n"
     ]
    }
   ],
   "source": [
    "from sklearn.model_selection import cross_val_score\n",
    "\n",
    "cv_knn = KNeighborsClassifier(n_neighbors=5)\n",
    "score_cv = cross_val_score(cv_knn, x, y, cv=5)\n",
    "print(score_cv)\n",
    "print('Average score:{}'.format(np.mean(score_cv))) #mean of scores"
   ]
  },
  {
   "cell_type": "markdown",
   "id": "55e3cb20",
   "metadata": {},
   "source": [
    "After cross-validation, we got average score of 76 percent which is more accurate score given by model before."
   ]
  },
  {
   "cell_type": "markdown",
   "id": "cae02a09",
   "metadata": {},
   "source": [
    "<b>Hyper-parameter tuning"
   ]
  },
  {
   "cell_type": "code",
   "execution_count": 222,
   "id": "0f5167b5",
   "metadata": {},
   "outputs": [
    {
     "data": {
      "text/plain": [
       "GridSearchCV(cv=5, estimator=KNeighborsClassifier(),\n",
       "             param_grid={'n_neighbors': array([ 1,  2,  3,  4,  5,  6,  7,  8,  9, 10])})"
      ]
     },
     "execution_count": 222,
     "metadata": {},
     "output_type": "execute_result"
    }
   ],
   "source": [
    "from sklearn.model_selection import GridSearchCV\n",
    "# new knn model\n",
    "knn2 = KNeighborsClassifier()\n",
    "# dictionary for testing value of n_neighbours\n",
    "param_grid = {'n_neighbors': np.arange(1, 11)}\n",
    "#use gridsearch to test all values for n_neighbors\n",
    "knn_Grid = GridSearchCV(knn2, param_grid, cv=5)\n",
    "\n",
    "knn_Grid.fit(x, y)"
   ]
  },
  {
   "cell_type": "code",
   "execution_count": 223,
   "id": "dbb4bc96",
   "metadata": {},
   "outputs": [
    {
     "data": {
      "text/plain": [
       "{'n_neighbors': 1}"
      ]
     },
     "execution_count": 223,
     "metadata": {},
     "output_type": "execute_result"
    }
   ],
   "source": [
    "# check which n_neighbour gives best accuracy\n",
    "knn_Grid.best_params_"
   ]
  },
  {
   "cell_type": "code",
   "execution_count": 224,
   "id": "bfacda88",
   "metadata": {},
   "outputs": [
    {
     "data": {
      "text/plain": [
       "0.9"
      ]
     },
     "execution_count": 224,
     "metadata": {},
     "output_type": "execute_result"
    }
   ],
   "source": [
    "knn_Grid.best_score_"
   ]
  },
  {
   "cell_type": "code",
   "execution_count": 226,
   "id": "ac1e43f3",
   "metadata": {},
   "outputs": [
    {
     "name": "stdout",
     "output_type": "stream",
     "text": [
      "              precision    recall  f1-score   support\n",
      "\n",
      "           0       0.89      0.92      0.91        26\n",
      "           1       1.00      0.86      0.92         7\n",
      "           2       0.60      1.00      0.75         3\n",
      "           3       1.00      1.00      1.00         6\n",
      "           4       1.00      0.89      0.94        18\n",
      "\n",
      "    accuracy                           0.92        60\n",
      "   macro avg       0.90      0.93      0.90        60\n",
      "weighted avg       0.93      0.92      0.92        60\n",
      "\n"
     ]
    }
   ],
   "source": [
    "# rebuild moddel with result n neighbour from cross validation.\n",
    "knn_ = KNeighborsClassifier(n_neighbors=1)\n",
    "knn_.fit(x_train,y_train)\n",
    "pred = knn_.predict(x_test)\n",
    "print(classification_report(y_test, pred))"
   ]
  },
  {
   "cell_type": "markdown",
   "id": "978aa0a3",
   "metadata": {},
   "source": [
    "<h1>Feature Selection"
   ]
  },
  {
   "cell_type": "code",
   "execution_count": 233,
   "id": "d27d518e",
   "metadata": {},
   "outputs": [
    {
     "data": {
      "image/png": "[encoded data removed]",
      "text/plain": [
       "<Figure size 1008x432 with 1 Axes>"
      ]
     },
     "metadata": {
      "needs_background": "light"
     },
     "output_type": "display_data"
    }
   ],
   "source": [
    "importance_feature.plot(kind='barh',figsize=(14,6));\n",
    "plt.title(\"Feature Importance\",fontsize=20);"
   ]
  },
  {
   "cell_type": "code",
   "execution_count": 227,
   "id": "0bf92973",
   "metadata": {},
   "outputs": [],
   "source": [
    "feature = x\n",
    "target = y"
   ]
  },
  {
   "cell_type": "code",
   "execution_count": 230,
   "id": "e9b1a311",
   "metadata": {},
   "outputs": [
    {
     "name": "stdout",
     "output_type": "stream",
     "text": [
      "Best alpha using built-in LassoCV: 0.008343\n",
      "Best score using built-in LassoCV: -45.658126\n"
     ]
    }
   ],
   "source": [
    "from sklearn.linear_model import LassoCV\n",
    "\n",
    "model = LassoCV()\n",
    "model.fit(feature, target)\n",
    "print(\"Best alpha using built-in LassoCV: %f\" % model.alpha_)\n",
    "print(\"Best score using built-in LassoCV: %f\" %model.score(features,target))\n",
    "coef = pd.Series(model.coef_, index = features.columns)"
   ]
  },
  {
   "cell_type": "code",
   "execution_count": 231,
   "id": "14d1fa2c",
   "metadata": {},
   "outputs": [
    {
     "name": "stdout",
     "output_type": "stream",
     "text": [
      "Lasso picked 4 variables and eliminated the other 1 variables\n"
     ]
    }
   ],
   "source": [
    "print(\"Lasso picked \" + str(sum(coef != 0)) + \" variables and eliminated the other \" +  str(sum(coef == 0)) + \" variables\")"
   ]
  },
  {
   "cell_type": "code",
   "execution_count": 232,
   "id": "f7a1ab6e",
   "metadata": {},
   "outputs": [
    {
     "data": {
      "text/plain": [
       "Text(0.5, 1.0, 'Feature importance using Lasso Model')"
      ]
     },
     "execution_count": 232,
     "metadata": {},
     "output_type": "execute_result"
    },
    {
     "data": {
      "image/png": "[encoded data removed]",
      "text/plain": [
       "<Figure size 576x720 with 1 Axes>"
      ]
     },
     "metadata": {
      "needs_background": "light"
     },
     "output_type": "display_data"
    }
   ],
   "source": [
    "imp_coef = coef.sort_values()\n",
    "import matplotlib\n",
    "matplotlib.rcParams['figure.figsize'] = (8.0, 10.0)\n",
    "imp_coef.plot(kind = \"barh\")\n",
    "plt.title(\"Feature importance using Lasso Model\")"
   ]
  },
  {
   "cell_type": "markdown",
   "id": "29242355",
   "metadata": {},
   "source": [
    "Using LassoCV, it gives selected features. Age column is eliminated by Lasso."
   ]
  },
  {
   "cell_type": "markdown",
   "id": "ee43ee9b",
   "metadata": {},
   "source": [
    "<h1>Model Rebuild"
   ]
  },
  {
   "cell_type": "markdown",
   "id": "59e85691",
   "metadata": {},
   "source": [
    "Now, new model will be build using results from cross-validation hypertuning and feature selection. "
   ]
  },
  {
   "cell_type": "code",
   "execution_count": 253,
   "id": "539d43f7",
   "metadata": {},
   "outputs": [
    {
     "data": {
      "text/html": [
       "<div>\n",
       "<style scoped>\n",
       "    .dataframe tbody tr th:only-of-type {\n",
       "        vertical-align: middle;\n",
       "    }\n",
       "\n",
       "    .dataframe tbody tr th {\n",
       "        vertical-align: top;\n",
       "    }\n",
       "\n",
       "    .dataframe thead th {\n",
       "        text-align: right;\n",
       "    }\n",
       "</style>\n",
       "<table border=\"1\" class=\"dataframe\">\n",
       "  <thead>\n",
       "    <tr style=\"text-align: right;\">\n",
       "      <th></th>\n",
       "      <th>BP</th>\n",
       "      <th>Cholesterol</th>\n",
       "      <th>Sex</th>\n",
       "      <th>Na_to_K</th>\n",
       "    </tr>\n",
       "  </thead>\n",
       "  <tbody>\n",
       "    <tr>\n",
       "      <th>0</th>\n",
       "      <td>0</td>\n",
       "      <td>0</td>\n",
       "      <td>0</td>\n",
       "      <td>0.596848</td>\n",
       "    </tr>\n",
       "    <tr>\n",
       "      <th>1</th>\n",
       "      <td>1</td>\n",
       "      <td>0</td>\n",
       "      <td>1</td>\n",
       "      <td>0.213397</td>\n",
       "    </tr>\n",
       "    <tr>\n",
       "      <th>2</th>\n",
       "      <td>1</td>\n",
       "      <td>0</td>\n",
       "      <td>1</td>\n",
       "      <td>0.120239</td>\n",
       "    </tr>\n",
       "    <tr>\n",
       "      <th>3</th>\n",
       "      <td>2</td>\n",
       "      <td>0</td>\n",
       "      <td>0</td>\n",
       "      <td>0.047814</td>\n",
       "    </tr>\n",
       "    <tr>\n",
       "      <th>4</th>\n",
       "      <td>1</td>\n",
       "      <td>0</td>\n",
       "      <td>0</td>\n",
       "      <td>0.368191</td>\n",
       "    </tr>\n",
       "  </tbody>\n",
       "</table>\n",
       "</div>"
      ],
      "text/plain": [
       "   BP  Cholesterol  Sex   Na_to_K\n",
       "0   0            0    0  0.596848\n",
       "1   1            0    1  0.213397\n",
       "2   1            0    1  0.120239\n",
       "3   2            0    0  0.047814\n",
       "4   1            0    0  0.368191"
      ]
     },
     "execution_count": 253,
     "metadata": {},
     "output_type": "execute_result"
    }
   ],
   "source": [
    "selected_x = feature[[\"BP\",\"Cholesterol\",\"Sex\",\"Na_to_K\"]]\n",
    "selected_x.head()"
   ]
  },
  {
   "cell_type": "code",
   "execution_count": 245,
   "id": "5f173f6a",
   "metadata": {},
   "outputs": [],
   "source": [
    "# Split train and test\n",
    "X_train, X_test, Y_train, Y_test = train_test_split(selected_x,y,test_size=0.2,random_state=42)"
   ]
  },
  {
   "cell_type": "code",
   "execution_count": 246,
   "id": "34ede801",
   "metadata": {},
   "outputs": [
    {
     "name": "stdout",
     "output_type": "stream",
     "text": [
      " Proceed Further\n"
     ]
    }
   ],
   "source": [
    "# check shape\n",
    "if selected_x.shape[0] == y.shape[0]:\n",
    "    print(\" Proceed Further\")\n",
    "else:\n",
    "    print(\" Shape doesnot match\")"
   ]
  },
  {
   "cell_type": "code",
   "execution_count": 247,
   "id": "34438332",
   "metadata": {},
   "outputs": [],
   "source": [
    "from sklearn.neighbors import KNeighborsClassifier\n",
    "knn = KNeighborsClassifier(n_neighbors=1) # n_neighbour '1' gives best accuracy from cross validation"
   ]
  },
  {
   "cell_type": "code",
   "execution_count": 248,
   "id": "62a3bb23",
   "metadata": {},
   "outputs": [
    {
     "data": {
      "text/plain": [
       "KNeighborsClassifier(n_neighbors=1)"
      ]
     },
     "execution_count": 248,
     "metadata": {},
     "output_type": "execute_result"
    }
   ],
   "source": [
    "knn.fit(X_train,Y_train)"
   ]
  },
  {
   "cell_type": "code",
   "execution_count": 249,
   "id": "a88c8608",
   "metadata": {},
   "outputs": [],
   "source": [
    "Y_Pred = knn.predict(X_test)"
   ]
  },
  {
   "cell_type": "markdown",
   "id": "e4e02fd8",
   "metadata": {},
   "source": [
    "<b>Classification report after model rebuild"
   ]
  },
  {
   "cell_type": "code",
   "execution_count": 250,
   "id": "6785fe34",
   "metadata": {},
   "outputs": [
    {
     "name": "stdout",
     "output_type": "stream",
     "text": [
      "              precision    recall  f1-score   support\n",
      "\n",
      "           0       1.00      0.83      0.91        18\n",
      "           1       0.83      1.00      0.91         5\n",
      "           2       1.00      1.00      1.00         3\n",
      "           3       1.00      1.00      1.00         5\n",
      "           4       0.82      1.00      0.90         9\n",
      "\n",
      "    accuracy                           0.93        40\n",
      "   macro avg       0.93      0.97      0.94        40\n",
      "weighted avg       0.94      0.93      0.93        40\n",
      "\n"
     ]
    }
   ],
   "source": [
    "print(classification_report(Y_Pred, Y_test))"
   ]
  },
  {
   "cell_type": "markdown",
   "id": "e54e6d70",
   "metadata": {},
   "source": [
    "<h1>Conclusion"
   ]
  },
  {
   "cell_type": "markdown",
   "id": "602dd457",
   "metadata": {},
   "source": [
    "Different models have given various accuracy.First Random forest classifier model is used which has 100 percent accuracy. The accuracy of Logistic Regression model is 83 percent. Accuracy of KNN model is 75. Cross validation for hyper-parameter is done for knn model. Hyperparameter of knn is 'n_neighbors'. From cross validation, 'n_neighbour=1' results best accuracy. We implement the hyperparameter and the model gave accuracy of 92 percent. Lastly, feature extraction was done from which one column 'Sex' is eliminated. The last rebuild model with feature extraction accuracy result was better. It has accuracy of 93 percent."
   ]
  }
 ],
 "metadata": {
  "kernelspec": {
   "display_name": "Python 3 (ipykernel)",
   "language": "python",
   "name": "python3"
  },
  "language_info": {
   "codemirror_mode": {
    "name": "ipython",
    "version": 3
   },
   "file_extension": ".py",
   "mimetype": "text/x-python",
   "name": "python",
   "nbconvert_exporter": "python",
   "pygments_lexer": "ipython3",
   "version": "3.9.7"
  }
 },
 "nbformat": 4,
 "nbformat_minor": 5
}
