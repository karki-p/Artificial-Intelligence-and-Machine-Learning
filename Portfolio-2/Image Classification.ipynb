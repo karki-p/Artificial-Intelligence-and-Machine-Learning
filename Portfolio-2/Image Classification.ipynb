{
 "cells": [
  {
   "cell_type": "code",
   "execution_count": 29,
   "id": "8ca8bb25",
   "metadata": {},
   "outputs": [],
   "source": [
    "# Importing necessary libraries\n",
    "from keras.preprocessing.image import ImageDataGenerator\n",
    "# Building deep learning models\n",
    "import tensorflow as tf \n",
    "\n",
    "from tensorflow import keras\n",
    "from tensorflow.keras import layers\n",
    "from tensorflow.keras.models import Sequential\n",
    "# For separating train and test sets\n",
    "from sklearn.model_selection import train_test_split\n",
    "\n",
    "# For visualizations\n",
    "import matplotlib.pyplot as plt\n",
    "import matplotlib.pyplot as plt\n",
    "import matplotlib.image as img\n",
    "\n",
    "from PIL import Image\n",
    "\n",
    "import os\n",
    "import numpy as np"
   ]
  },
  {
   "cell_type": "code",
   "execution_count": 30,
   "id": "9055139e",
   "metadata": {},
   "outputs": [],
   "source": [
    "dataset = 'C:/Users/drish/Downloads/Compressed/input/tomato'"
   ]
  },
  {
   "cell_type": "code",
   "execution_count": 31,
   "id": "b157e9f1",
   "metadata": {},
   "outputs": [],
   "source": [
    "batch_size = 32\n",
    "img_height = 180\n",
    "img_width = 180"
   ]
  },
  {
   "cell_type": "code",
   "execution_count": 32,
   "id": "a5651b34",
   "metadata": {},
   "outputs": [],
   "source": [
    "train_datagen = ImageDataGenerator(\n",
    "        rescale=1./255,\n",
    "        shear_range=0.2,\n",
    "        zoom_range=0.2,\n",
    "        horizontal_flip=True)\n",
    "\n",
    "test_datagen = ImageDataGenerator(rescale=1./255)"
   ]
  },
  {
   "cell_type": "code",
   "execution_count": 33,
   "id": "a09bbaeb",
   "metadata": {},
   "outputs": [
    {
     "name": "stdout",
     "output_type": "stream",
     "text": [
      "Found 50 images belonging to 10 classes.\n"
     ]
    }
   ],
   "source": [
    "train_generator = train_datagen.flow_from_directory(\n",
    "        'C:/Users/drish/Downloads/Compressed/input/tomato/train',\n",
    "        target_size=(150, 150),\n",
    "        batch_size=32,\n",
    "        class_mode='categorical')"
   ]
  },
  {
   "cell_type": "code",
   "execution_count": 34,
   "id": "82f4aea1",
   "metadata": {},
   "outputs": [
    {
     "name": "stdout",
     "output_type": "stream",
     "text": [
      "Found 50 images belonging to 10 classes.\n"
     ]
    }
   ],
   "source": [
    "test_generator = test_datagen.flow_from_directory(\n",
    "        'C:/Users/drish/Downloads/Compressed/input/tomato/val',\n",
    "        target_size=(150, 150),\n",
    "        batch_size=32,\n",
    "        class_mode='categorical')"
   ]
  },
  {
   "cell_type": "code",
   "execution_count": 35,
   "id": "aff92648",
   "metadata": {},
   "outputs": [
    {
     "name": "stdout",
     "output_type": "stream",
     "text": [
      "Model: \"sequential_1\"\n",
      "_________________________________________________________________\n",
      " Layer (type)                Output Shape              Param #   \n",
      "=================================================================\n",
      " conv2d_2 (Conv2D)           (None, 148, 148, 32)      896       \n",
      "                                                                 \n",
      " max_pooling2d_2 (MaxPooling  (None, 74, 74, 32)       0         \n",
      " 2D)                                                             \n",
      "                                                                 \n",
      " conv2d_3 (Conv2D)           (None, 72, 72, 32)        9248      \n",
      "                                                                 \n",
      " max_pooling2d_3 (MaxPooling  (None, 36, 36, 32)       0         \n",
      " 2D)                                                             \n",
      "                                                                 \n",
      " flatten_1 (Flatten)         (None, 41472)             0         \n",
      "                                                                 \n",
      " dense_2 (Dense)             (None, 128)               5308544   \n",
      "                                                                 \n",
      " dense_3 (Dense)             (None, 10)                1290      \n",
      "                                                                 \n",
      "=================================================================\n",
      "Total params: 5,319,978\n",
      "Trainable params: 5,319,978\n",
      "Non-trainable params: 0\n",
      "_________________________________________________________________\n",
      "Epoch 1/25\n",
      "2/2 [==============================] - 2s 940ms/step - loss: 0.5974 - accuracy: 0.0800 - val_loss: 0.5476 - val_accuracy: 0.1000\n",
      "Epoch 2/25\n",
      "2/2 [==============================] - 1s 836ms/step - loss: 0.5149 - accuracy: 0.0400 - val_loss: 0.4067 - val_accuracy: 0.1000\n",
      "Epoch 3/25\n",
      "2/2 [==============================] - 1s 463ms/step - loss: 0.3709 - accuracy: 0.0800 - val_loss: 0.3550 - val_accuracy: 0.1000\n",
      "Epoch 4/25\n",
      "2/2 [==============================] - 1s 461ms/step - loss: 0.3614 - accuracy: 0.0800 - val_loss: 0.3555 - val_accuracy: 0.1000\n",
      "Epoch 5/25\n",
      "2/2 [==============================] - 1s 433ms/step - loss: 0.3566 - accuracy: 0.1000 - val_loss: 0.3407 - val_accuracy: 0.1200\n",
      "Epoch 6/25\n",
      "2/2 [==============================] - 1s 701ms/step - loss: 0.3396 - accuracy: 0.2200 - val_loss: 0.3522 - val_accuracy: 0.1000\n",
      "Epoch 7/25\n",
      "2/2 [==============================] - 1s 469ms/step - loss: 0.3383 - accuracy: 0.2200 - val_loss: 0.3325 - val_accuracy: 0.1400\n",
      "Epoch 8/25\n",
      "2/2 [==============================] - 1s 687ms/step - loss: 0.3172 - accuracy: 0.2000 - val_loss: 0.3250 - val_accuracy: 0.1400\n",
      "Epoch 9/25\n",
      "2/2 [==============================] - 1s 371ms/step - loss: 0.3138 - accuracy: 0.1800 - val_loss: 0.3251 - val_accuracy: 0.1600\n",
      "Epoch 10/25\n",
      "2/2 [==============================] - 1s 578ms/step - loss: 0.3073 - accuracy: 0.2400 - val_loss: 0.3234 - val_accuracy: 0.2600\n",
      "Epoch 11/25\n",
      "2/2 [==============================] - 1s 374ms/step - loss: 0.2990 - accuracy: 0.3600 - val_loss: 0.3204 - val_accuracy: 0.3200\n",
      "Epoch 12/25\n",
      "2/2 [==============================] - 1s 351ms/step - loss: 0.2909 - accuracy: 0.5400 - val_loss: 0.3238 - val_accuracy: 0.3000\n",
      "Epoch 13/25\n",
      "2/2 [==============================] - 1s 370ms/step - loss: 0.2835 - accuracy: 0.5800 - val_loss: 0.3242 - val_accuracy: 0.2400\n",
      "Epoch 14/25\n",
      "2/2 [==============================] - 1s 548ms/step - loss: 0.2702 - accuracy: 0.4000 - val_loss: 0.3163 - val_accuracy: 0.2600\n",
      "Epoch 15/25\n",
      "2/2 [==============================] - 1s 650ms/step - loss: 0.2584 - accuracy: 0.5600 - val_loss: 0.3208 - val_accuracy: 0.4000\n",
      "Epoch 16/25\n",
      "2/2 [==============================] - 1s 581ms/step - loss: 0.2494 - accuracy: 0.6400 - val_loss: 0.3167 - val_accuracy: 0.3200\n",
      "Epoch 17/25\n",
      "2/2 [==============================] - 1s 416ms/step - loss: 0.2324 - accuracy: 0.7000 - val_loss: 0.3399 - val_accuracy: 0.3800\n",
      "Epoch 18/25\n",
      "2/2 [==============================] - 1s 424ms/step - loss: 0.2220 - accuracy: 0.7800 - val_loss: 0.3031 - val_accuracy: 0.5000\n",
      "Epoch 19/25\n",
      "2/2 [==============================] - 1s 594ms/step - loss: 0.2150 - accuracy: 0.7000 - val_loss: 0.3178 - val_accuracy: 0.3000\n",
      "Epoch 20/25\n",
      "2/2 [==============================] - 1s 570ms/step - loss: 0.1972 - accuracy: 0.7200 - val_loss: 0.3081 - val_accuracy: 0.4000\n",
      "Epoch 21/25\n",
      "2/2 [==============================] - 1s 396ms/step - loss: 0.1868 - accuracy: 0.7600 - val_loss: 0.3033 - val_accuracy: 0.5000\n",
      "Epoch 22/25\n",
      "2/2 [==============================] - 1s 579ms/step - loss: 0.1663 - accuracy: 0.8400 - val_loss: 0.2965 - val_accuracy: 0.4600\n",
      "Epoch 23/25\n",
      "2/2 [==============================] - 1s 574ms/step - loss: 0.1854 - accuracy: 0.7600 - val_loss: 0.3051 - val_accuracy: 0.3600\n",
      "Epoch 24/25\n",
      "2/2 [==============================] - 1s 370ms/step - loss: 0.1492 - accuracy: 0.8800 - val_loss: 0.3088 - val_accuracy: 0.5000\n",
      "Epoch 25/25\n",
      "2/2 [==============================] - 1s 467ms/step - loss: 0.1441 - accuracy: 0.8800 - val_loss: 0.3078 - val_accuracy: 0.4400\n"
     ]
    }
   ],
   "source": [
    "# First model\n",
    "\n",
    "cnn = tf.keras.models.Sequential()\n",
    "\n",
    "#Convolution layer 1\n",
    "cnn.add(tf.keras.layers.Conv2D(filters=32,kernel_size = 3, activation='relu',input_shape=[150, 150,3]))\n",
    "\n",
    "# Pooling 1\n",
    "cnn.add(tf.keras.layers.MaxPool2D(pool_size=2, strides=2))\n",
    "\n",
    "#Convolution layer 2\n",
    "cnn.add(tf.keras.layers.Conv2D(filters=32,kernel_size = 3, activation='relu',input_shape=[150, 150,3]))\n",
    "\n",
    "# Pooling 2\n",
    "cnn.add(tf.keras.layers.MaxPool2D(pool_size=2, strides=2))\n",
    "\n",
    "# Flattening\n",
    "cnn.add(tf.keras.layers.Flatten())\n",
    "\n",
    "#Full Conncetion\n",
    "cnn.add(tf.keras.layers.Dense(units=128,activation='relu'))\n",
    "\n",
    "#Output Layer\n",
    "cnn.add(tf.keras.layers.Dense(units=10,activation='softmax'))\n",
    "\n",
    "#Compiling\n",
    "cnn.compile(optimizer='adam',loss='binary_crossentropy',metrics=['accuracy'])\n",
    "\n",
    "# Summary of the model\n",
    "cnn.summary()\n",
    "\n",
    "# Fit\n",
    "temp = cnn.fit(x = train_generator, validation_data=test_generator,epochs=25)"
   ]
  },
  {
   "cell_type": "code",
   "execution_count": 36,
   "id": "df1b2ffd",
   "metadata": {},
   "outputs": [
    {
     "data": {
      "image/png": "[encoded data removed]",
      "text/plain": [
       "<Figure size 432x288 with 1 Axes>"
      ]
     },
     "metadata": {
      "needs_background": "light"
     },
     "output_type": "display_data"
    },
    {
     "data": {
      "image/png": "[encoded data removed]",
      "text/plain": [
       "<Figure size 432x288 with 1 Axes>"
      ]
     },
     "metadata": {
      "needs_background": "light"
     },
     "output_type": "display_data"
    },
    {
     "data": {
      "text/plain": [
       "<Figure size 432x288 with 0 Axes>"
      ]
     },
     "metadata": {},
     "output_type": "display_data"
    }
   ],
   "source": [
    "# plot the loss\n",
    "plt.plot(temp.history['loss'], label='train loss')\n",
    "plt.plot(temp.history['val_loss'], label='val loss')\n",
    "plt.legend()\n",
    "plt.show()\n",
    "plt.savefig('LossVal_loss')\n",
    "\n",
    "# plot the accuracy\n",
    "plt.plot(temp.history['accuracy'], label='train acc')\n",
    "plt.plot(temp.history['val_accuracy'], label='val acc')\n",
    "plt.legend()\n",
    "plt.show()\n",
    "plt.savefig('AccVal_acc')"
   ]
  },
  {
   "cell_type": "code",
   "execution_count": 38,
   "id": "509b768d",
   "metadata": {},
   "outputs": [],
   "source": [
    "# Testing the model\n",
    "from keras.preprocessing import image\n",
    "test = image.load_img(\"C:/Users/drish/Downloads/Compressed/input/tomato/train/Tomato___Bacterial_spot/33028adc-9dc2-4ac3-a7b9-7094200264f6___GCREC_Bact.Sp 3162.JPG\",target_size = (150, 150))\n",
    "test=image.img_to_array(test)\n",
    "test=np.expand_dims(test,axis=0)\n",
    "result=cnn.predict(test)"
   ]
  },
  {
   "cell_type": "code",
   "execution_count": 39,
   "id": "4ff188b3",
   "metadata": {},
   "outputs": [
    {
     "data": {
      "text/plain": [
       "array([[1., 0., 0., 0., 0., 0., 0., 0., 0., 0.]], dtype=float32)"
      ]
     },
     "execution_count": 39,
     "metadata": {},
     "output_type": "execute_result"
    }
   ],
   "source": [
    "result"
   ]
  },
  {
   "cell_type": "code",
   "execution_count": 40,
   "id": "f5150ea8",
   "metadata": {},
   "outputs": [
    {
     "name": "stdout",
     "output_type": "stream",
     "text": [
      "Model: \"sequential_2\"\n",
      "_________________________________________________________________\n",
      " Layer (type)                Output Shape              Param #   \n",
      "=================================================================\n",
      " conv2d_4 (Conv2D)           (None, 148, 148, 32)      896       \n",
      "                                                                 \n",
      " max_pooling2d_4 (MaxPooling  (None, 74, 74, 32)       0         \n",
      " 2D)                                                             \n",
      "                                                                 \n",
      " conv2d_5 (Conv2D)           (None, 72, 72, 32)        9248      \n",
      "                                                                 \n",
      " max_pooling2d_5 (MaxPooling  (None, 36, 36, 32)       0         \n",
      " 2D)                                                             \n",
      "                                                                 \n",
      " flatten_2 (Flatten)         (None, 41472)             0         \n",
      "                                                                 \n",
      " dense_4 (Dense)             (None, 128)               5308544   \n",
      "                                                                 \n",
      " dense_5 (Dense)             (None, 128)               16512     \n",
      "                                                                 \n",
      " dense_6 (Dense)             (None, 10)                1290      \n",
      "                                                                 \n",
      "=================================================================\n",
      "Total params: 5,336,490\n",
      "Trainable params: 5,336,490\n",
      "Non-trainable params: 0\n",
      "_________________________________________________________________\n",
      "Epoch 1/25\n",
      "2/2 [==============================] - 2s 721ms/step - loss: 0.6649 - accuracy: 0.0600 - val_loss: 0.3988 - val_accuracy: 0.1000\n",
      "Epoch 2/25\n",
      "2/2 [==============================] - 1s 470ms/step - loss: 0.3879 - accuracy: 0.1000 - val_loss: 0.3411 - val_accuracy: 0.1000\n",
      "Epoch 3/25\n",
      "2/2 [==============================] - 1s 843ms/step - loss: 0.3459 - accuracy: 0.1000 - val_loss: 0.3396 - val_accuracy: 0.1200\n",
      "Epoch 4/25\n",
      "2/2 [==============================] - 1s 768ms/step - loss: 0.3401 - accuracy: 0.1200 - val_loss: 0.3367 - val_accuracy: 0.1400\n",
      "Epoch 5/25\n",
      "2/2 [==============================] - 1s 797ms/step - loss: 0.3351 - accuracy: 0.2000 - val_loss: 0.3332 - val_accuracy: 0.1000\n",
      "Epoch 6/25\n",
      "2/2 [==============================] - 1s 495ms/step - loss: 0.3293 - accuracy: 0.0400 - val_loss: 0.3273 - val_accuracy: 0.1200\n",
      "Epoch 7/25\n",
      "2/2 [==============================] - 1s 467ms/step - loss: 0.3254 - accuracy: 0.2000 - val_loss: 0.3268 - val_accuracy: 0.1400\n",
      "Epoch 8/25\n",
      "2/2 [==============================] - 1s 584ms/step - loss: 0.3288 - accuracy: 0.1600 - val_loss: 0.3311 - val_accuracy: 0.1400\n",
      "Epoch 9/25\n",
      "2/2 [==============================] - 1s 458ms/step - loss: 0.3233 - accuracy: 0.1800 - val_loss: 0.3232 - val_accuracy: 0.1200\n",
      "Epoch 10/25\n",
      "2/2 [==============================] - 1s 663ms/step - loss: 0.3175 - accuracy: 0.1200 - val_loss: 0.3203 - val_accuracy: 0.1000\n",
      "Epoch 11/25\n",
      "2/2 [==============================] - 1s 657ms/step - loss: 0.3109 - accuracy: 0.1200 - val_loss: 0.3197 - val_accuracy: 0.1400\n",
      "Epoch 12/25\n",
      "2/2 [==============================] - 1s 411ms/step - loss: 0.3030 - accuracy: 0.2400 - val_loss: 0.3126 - val_accuracy: 0.2600\n",
      "Epoch 13/25\n",
      "2/2 [==============================] - 1s 594ms/step - loss: 0.3002 - accuracy: 0.4400 - val_loss: 0.3122 - val_accuracy: 0.2400\n",
      "Epoch 14/25\n",
      "2/2 [==============================] - 1s 582ms/step - loss: 0.2923 - accuracy: 0.5600 - val_loss: 0.3051 - val_accuracy: 0.1800\n",
      "Epoch 15/25\n",
      "2/2 [==============================] - 1s 420ms/step - loss: 0.2806 - accuracy: 0.5200 - val_loss: 0.3058 - val_accuracy: 0.2800\n",
      "Epoch 16/25\n",
      "2/2 [==============================] - 1s 394ms/step - loss: 0.2686 - accuracy: 0.5200 - val_loss: 0.2967 - val_accuracy: 0.3200\n",
      "Epoch 17/25\n",
      "2/2 [==============================] - 1s 405ms/step - loss: 0.2610 - accuracy: 0.5600 - val_loss: 0.3018 - val_accuracy: 0.3600\n",
      "Epoch 18/25\n",
      "2/2 [==============================] - 1s 493ms/step - loss: 0.2435 - accuracy: 0.7200 - val_loss: 0.2861 - val_accuracy: 0.2800\n",
      "Epoch 19/25\n",
      "2/2 [==============================] - 1s 612ms/step - loss: 0.2344 - accuracy: 0.8200 - val_loss: 0.3094 - val_accuracy: 0.2400\n",
      "Epoch 20/25\n",
      "2/2 [==============================] - 1s 460ms/step - loss: 0.2143 - accuracy: 0.7800 - val_loss: 0.2784 - val_accuracy: 0.4600\n",
      "Epoch 21/25\n",
      "2/2 [==============================] - 1s 409ms/step - loss: 0.2009 - accuracy: 0.7600 - val_loss: 0.3433 - val_accuracy: 0.2600\n",
      "Epoch 22/25\n",
      "2/2 [==============================] - 1s 391ms/step - loss: 0.2081 - accuracy: 0.7000 - val_loss: 0.2837 - val_accuracy: 0.3200\n",
      "Epoch 23/25\n",
      "2/2 [==============================] - 1s 610ms/step - loss: 0.1872 - accuracy: 0.7600 - val_loss: 0.3132 - val_accuracy: 0.3600\n",
      "Epoch 24/25\n",
      "2/2 [==============================] - 1s 655ms/step - loss: 0.1710 - accuracy: 0.7800 - val_loss: 0.2762 - val_accuracy: 0.3800\n",
      "Epoch 25/25\n",
      "2/2 [==============================] - 1s 588ms/step - loss: 0.1649 - accuracy: 0.7400 - val_loss: 0.3117 - val_accuracy: 0.3600\n"
     ]
    }
   ],
   "source": [
    "\n",
    "# Second model\n",
    "\n",
    "cnn2 = tf.keras.models.Sequential()\n",
    "\n",
    "#Convolution layer 1\n",
    "cnn2.add(tf.keras.layers.Conv2D(filters=32,kernel_size = 3, activation='relu',input_shape=[150, 150,3]))\n",
    "\n",
    "# Pooling 1\n",
    "cnn2.add(tf.keras.layers.MaxPool2D(pool_size=2, strides=2))\n",
    "\n",
    "#Convolution layer 2\n",
    "cnn2.add(tf.keras.layers.Conv2D(filters=32,kernel_size = 3, activation='relu',input_shape=[150, 150,3]))\n",
    "\n",
    "# Pooling 2\n",
    "cnn2.add(tf.keras.layers.MaxPool2D(pool_size=2, strides=2))\n",
    "\n",
    "# Flattening\n",
    "cnn2.add(tf.keras.layers.Flatten())\n",
    "\n",
    "#Full Conncetion\n",
    "cnn2.add(tf.keras.layers.Dense(units=128,activation='relu'))\n",
    "\n",
    "#Full Conncetion\n",
    "cnn2.add(tf.keras.layers.Dense(units=128,activation='relu'))\n",
    "\n",
    "#Output Layer\n",
    "cnn2.add(tf.keras.layers.Dense(units=10,activation='softmax'))\n",
    "\n",
    "#Compiling\n",
    "cnn2.compile(optimizer='adam',loss='binary_crossentropy',metrics=['accuracy'])\n",
    "\n",
    "# Summary of the model\n",
    "cnn2.summary()\n",
    "\n",
    "# Fit\n",
    "temp = cnn2.fit(x = train_generator, validation_data=test_generator,epochs=25)"
   ]
  },
  {
   "cell_type": "code",
   "execution_count": 41,
   "id": "dbd21b62",
   "metadata": {},
   "outputs": [
    {
     "data": {
      "image/png": "[encoded data removed]",
      "text/plain": [
       "<Figure size 432x288 with 1 Axes>"
      ]
     },
     "metadata": {
      "needs_background": "light"
     },
     "output_type": "display_data"
    },
    {
     "data": {
      "image/png": "[encoded data removed]",
      "text/plain": [
       "<Figure size 432x288 with 1 Axes>"
      ]
     },
     "metadata": {
      "needs_background": "light"
     },
     "output_type": "display_data"
    },
    {
     "data": {
      "text/plain": [
       "<Figure size 432x288 with 0 Axes>"
      ]
     },
     "metadata": {},
     "output_type": "display_data"
    }
   ],
   "source": [
    "# plot the loss\n",
    "plt.plot(temp.history['loss'], label='train loss')\n",
    "plt.plot(temp.history['val_loss'], label='val loss')\n",
    "plt.legend()\n",
    "plt.show()\n",
    "plt.savefig('LossVal_loss')\n",
    "\n",
    "# plot the accuracy\n",
    "plt.plot(temp.history['accuracy'], label='train acc')\n",
    "plt.plot(temp.history['val_accuracy'], label='val acc')\n",
    "plt.legend()\n",
    "plt.show()\n",
    "plt.savefig('AccVal_acc')"
   ]
  },
  {
   "cell_type": "code",
   "execution_count": 42,
   "id": "5a261621",
   "metadata": {},
   "outputs": [
    {
     "name": "stdout",
     "output_type": "stream",
     "text": [
      "Model: \"sequential_3\"\n",
      "_________________________________________________________________\n",
      " Layer (type)                Output Shape              Param #   \n",
      "=================================================================\n",
      " conv2d_6 (Conv2D)           (None, 148, 148, 32)      896       \n",
      "                                                                 \n",
      " max_pooling2d_6 (MaxPooling  (None, 74, 74, 32)       0         \n",
      " 2D)                                                             \n",
      "                                                                 \n",
      " conv2d_7 (Conv2D)           (None, 72, 72, 32)        9248      \n",
      "                                                                 \n",
      " max_pooling2d_7 (MaxPooling  (None, 36, 36, 32)       0         \n",
      " 2D)                                                             \n",
      "                                                                 \n",
      " flatten_3 (Flatten)         (None, 41472)             0         \n",
      "                                                                 \n",
      " dense_7 (Dense)             (None, 128)               5308544   \n",
      "                                                                 \n",
      " dense_8 (Dense)             (None, 10)                1290      \n",
      "                                                                 \n",
      "=================================================================\n",
      "Total params: 5,319,978\n",
      "Trainable params: 5,319,978\n",
      "Non-trainable params: 0\n",
      "_________________________________________________________________\n",
      "Epoch 1/25\n",
      "2/2 [==============================] - 2s 916ms/step - loss: 0.6472 - accuracy: 0.0400 - val_loss: 0.5750 - val_accuracy: 0.1000\n",
      "Epoch 2/25\n",
      "2/2 [==============================] - 1s 468ms/step - loss: 0.4989 - accuracy: 0.1000 - val_loss: 0.4308 - val_accuracy: 0.1000\n",
      "Epoch 3/25\n",
      "2/2 [==============================] - 1s 794ms/step - loss: 0.3786 - accuracy: 0.1400 - val_loss: 0.3717 - val_accuracy: 0.1000\n",
      "Epoch 4/25\n",
      "2/2 [==============================] - 1s 728ms/step - loss: 0.3690 - accuracy: 0.0800 - val_loss: 0.3565 - val_accuracy: 0.1000\n",
      "Epoch 5/25\n",
      "2/2 [==============================] - 1s 764ms/step - loss: 0.3515 - accuracy: 0.1000 - val_loss: 0.3355 - val_accuracy: 0.1000\n",
      "Epoch 6/25\n",
      "2/2 [==============================] - 1s 731ms/step - loss: 0.3335 - accuracy: 0.0800 - val_loss: 0.3539 - val_accuracy: 0.1000\n",
      "Epoch 7/25\n",
      "2/2 [==============================] - 1s 757ms/step - loss: 0.3422 - accuracy: 0.1000 - val_loss: 0.3561 - val_accuracy: 0.1000\n",
      "Epoch 8/25\n",
      "2/2 [==============================] - 1s 406ms/step - loss: 0.3349 - accuracy: 0.1200 - val_loss: 0.3301 - val_accuracy: 0.2400\n",
      "Epoch 9/25\n",
      "2/2 [==============================] - 1s 380ms/step - loss: 0.3129 - accuracy: 0.3200 - val_loss: 0.3230 - val_accuracy: 0.2000\n",
      "Epoch 10/25\n",
      "2/2 [==============================] - 1s 609ms/step - loss: 0.3107 - accuracy: 0.5000 - val_loss: 0.3260 - val_accuracy: 0.2600\n",
      "Epoch 11/25\n",
      "2/2 [==============================] - 1s 638ms/step - loss: 0.3016 - accuracy: 0.3400 - val_loss: 0.3227 - val_accuracy: 0.2600\n",
      "Epoch 12/25\n",
      "2/2 [==============================] - 1s 419ms/step - loss: 0.2953 - accuracy: 0.4000 - val_loss: 0.3200 - val_accuracy: 0.2600\n",
      "Epoch 13/25\n",
      "2/2 [==============================] - 1s 384ms/step - loss: 0.2848 - accuracy: 0.5000 - val_loss: 0.3112 - val_accuracy: 0.2600\n",
      "Epoch 14/25\n",
      "2/2 [==============================] - 1s 419ms/step - loss: 0.2703 - accuracy: 0.4800 - val_loss: 0.3157 - val_accuracy: 0.3000\n",
      "Epoch 15/25\n",
      "2/2 [==============================] - 1s 586ms/step - loss: 0.2614 - accuracy: 0.5800 - val_loss: 0.3120 - val_accuracy: 0.2800\n",
      "Epoch 16/25\n",
      "2/2 [==============================] - 1s 386ms/step - loss: 0.2507 - accuracy: 0.7000 - val_loss: 0.3032 - val_accuracy: 0.3000\n",
      "Epoch 17/25\n",
      "2/2 [==============================] - 1s 570ms/step - loss: 0.2307 - accuracy: 0.7600 - val_loss: 0.3041 - val_accuracy: 0.3200\n",
      "Epoch 18/25\n",
      "2/2 [==============================] - 1s 378ms/step - loss: 0.2205 - accuracy: 0.7200 - val_loss: 0.3237 - val_accuracy: 0.3000\n",
      "Epoch 19/25\n",
      "2/2 [==============================] - 1s 373ms/step - loss: 0.2093 - accuracy: 0.7200 - val_loss: 0.3290 - val_accuracy: 0.3200\n",
      "Epoch 20/25\n",
      "2/2 [==============================] - 1s 419ms/step - loss: 0.1958 - accuracy: 0.6600 - val_loss: 0.2843 - val_accuracy: 0.4400\n",
      "Epoch 21/25\n",
      "2/2 [==============================] - 1s 415ms/step - loss: 0.1805 - accuracy: 0.7800 - val_loss: 0.3052 - val_accuracy: 0.3800\n",
      "Epoch 22/25\n",
      "2/2 [==============================] - 1s 389ms/step - loss: 0.1700 - accuracy: 0.7400 - val_loss: 0.3146 - val_accuracy: 0.3200\n",
      "Epoch 23/25\n",
      "2/2 [==============================] - 1s 599ms/step - loss: 0.1526 - accuracy: 0.8400 - val_loss: 0.2949 - val_accuracy: 0.4400\n",
      "Epoch 24/25\n",
      "2/2 [==============================] - 1s 689ms/step - loss: 0.1405 - accuracy: 0.8400 - val_loss: 0.2885 - val_accuracy: 0.4800\n",
      "Epoch 25/25\n",
      "2/2 [==============================] - 1s 666ms/step - loss: 0.1390 - accuracy: 0.8600 - val_loss: 0.3258 - val_accuracy: 0.3800\n"
     ]
    }
   ],
   "source": [
    "# Third model\n",
    "\n",
    "cnn3 = tf.keras.models.Sequential()\n",
    "\n",
    "#Convolution layer 1\n",
    "cnn3.add(tf.keras.layers.Conv2D(filters=32,kernel_size = 3, activation='relu',input_shape=[150, 150,3]))\n",
    "\n",
    "# Pooling 1\n",
    "cnn3.add(tf.keras.layers.MaxPool2D(pool_size=2, strides=2))\n",
    "\n",
    "#Convolution layer 2\n",
    "cnn3.add(tf.keras.layers.Conv2D(filters=32,kernel_size = 3, activation='relu',input_shape=[150, 150,3]))\n",
    "\n",
    "# Pooling 2\n",
    "cnn3.add(tf.keras.layers.MaxPool2D(pool_size=2, strides=2))\n",
    "\n",
    "# Flattening\n",
    "cnn3.add(tf.keras.layers.Flatten())\n",
    "\n",
    "#Full Conncetion\n",
    "cnn3.add(tf.keras.layers.Dense(units=128,activation='relu'))\n",
    "\n",
    "#Output Layer\n",
    "cnn3.add(tf.keras.layers.Dense(units=10,activation='softmax'))\n",
    "\n",
    "#Compiling\n",
    "cnn3.compile(optimizer='adam',loss='binary_crossentropy',metrics=['accuracy'])\n",
    "\n",
    "# Summary of the model\n",
    "cnn3.summary()\n",
    "\n",
    "# Fit\n",
    "temp = cnn3.fit(x = train_generator, validation_data=test_generator,epochs=25,batch_size = 64)"
   ]
  },
  {
   "cell_type": "code",
   "execution_count": 43,
   "id": "6f5008a9",
   "metadata": {},
   "outputs": [
    {
     "data": {
      "image/png": "[encoded data removed]",
      "text/plain": [
       "<Figure size 432x288 with 1 Axes>"
      ]
     },
     "metadata": {
      "needs_background": "light"
     },
     "output_type": "display_data"
    },
    {
     "data": {
      "image/png": "[encoded data removed]",
      "text/plain": [
       "<Figure size 432x288 with 1 Axes>"
      ]
     },
     "metadata": {
      "needs_background": "light"
     },
     "output_type": "display_data"
    },
    {
     "data": {
      "text/plain": [
       "<Figure size 432x288 with 0 Axes>"
      ]
     },
     "metadata": {},
     "output_type": "display_data"
    }
   ],
   "source": [
    "# plot the loss\n",
    "plt.plot(temp.history['loss'], label='train loss')\n",
    "plt.plot(temp.history['val_loss'], label='val loss')\n",
    "plt.legend()\n",
    "plt.show()\n",
    "plt.savefig('LossVal_loss')\n",
    "\n",
    "# plot the accuracy\n",
    "plt.plot(temp.history['accuracy'], label='train acc')\n",
    "plt.plot(temp.history['val_accuracy'], label='val acc')\n",
    "plt.legend()\n",
    "plt.show()\n",
    "plt.savefig('AccVal_acc')"
   ]
  }
 ],
 "metadata": {
  "kernelspec": {
   "display_name": "Python 3 (ipykernel)",
   "language": "python",
   "name": "python3"
  },
  "language_info": {
   "codemirror_mode": {
    "name": "ipython",
    "version": 3
   },
   "file_extension": ".py",
   "mimetype": "text/x-python",
   "name": "python",
   "nbconvert_exporter": "python",
   "pygments_lexer": "ipython3",
   "version": "3.9.7"
  }
 },
 "nbformat": 4,
 "nbformat_minor": 5
}
